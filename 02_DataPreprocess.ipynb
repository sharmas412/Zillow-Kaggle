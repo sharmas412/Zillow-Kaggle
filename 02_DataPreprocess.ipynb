{
 "cells": [
  {
   "cell_type": "code",
   "execution_count": 129,
   "metadata": {},
   "outputs": [],
   "source": [
    "import numpy as np\n",
    "import pandas as pd\n",
    "\n",
    "import matplotlib.pyplot as plt\n",
    "import seaborn as sns"
   ]
  },
  {
   "cell_type": "code",
   "execution_count": 130,
   "metadata": {},
   "outputs": [],
   "source": [
    "raw_merged = pd.read_csv('zillow_raw.csv')"
   ]
  },
  {
   "cell_type": "markdown",
   "metadata": {},
   "source": [
    "### Dealing with datetime variables"
   ]
  },
  {
   "cell_type": "code",
   "execution_count": 131,
   "metadata": {},
   "outputs": [],
   "source": [
    "raw_merged['transactiondate']=pd.to_datetime(raw_merged['transactiondate'])\n",
    "raw_merged['month'] = raw_merged['transactiondate'].dt.month\n",
    "raw_merged['year'] = raw_merged['transactiondate'].dt.year\n",
    "\n",
    "raw_merged.drop('transactiondate', axis=1, inplace=True)\n"
   ]
  },
  {
   "cell_type": "markdown",
   "metadata": {},
   "source": [
    "### Dealing with missing variables - Part 1"
   ]
  },
  {
   "cell_type": "markdown",
   "metadata": {},
   "source": [
    "#### Pools and Hot Tubs"
   ]
  },
  {
   "cell_type": "code",
   "execution_count": 132,
   "metadata": {},
   "outputs": [],
   "source": [
    "# 'NaN' in poolcnt means '0 pools'\n",
    "raw_merged['poolcnt'].fillna(0, inplace=True)\n",
    "\n",
    "# 'NaN' in 'hashottuborspa' means 0 and convert True to 1\n",
    "raw_merged['hashottuborspa'].fillna(0, inplace=True)\n",
    "raw_merged ['hashottuborspa'].replace(True, 1, inplace=True)\n",
    "\n",
    "#Fill missing poolsize column for properties that have a pool with the median value of the poolsize\n",
    "raw_merged.loc[raw_merged['poolcnt']>0, 'poolsizesum'] =  raw_merged.loc[raw_merged['poolcnt']>0, 'poolsizesum'].fillna(\n",
    "                                                            raw_merged[raw_merged['poolcnt']>0]['poolsizesum'].median())\n",
    "\n",
    "# if no pool, then poosizesum is 0\n",
    "raw_merged.loc[raw_merged['poolcnt']==0, 'poolsizesum']=0\n",
    "\n",
    "# Drop redundant variables regarding pools and hot tubs\n",
    "raw_merged.drop(['pooltypeid2', 'pooltypeid7', 'pooltypeid10'], axis=1, inplace=True)"
   ]
  },
  {
   "cell_type": "markdown",
   "metadata": {},
   "source": [
    "#### Fireplace "
   ]
  },
  {
   "cell_type": "code",
   "execution_count": 133,
   "metadata": {},
   "outputs": [],
   "source": [
    "# If 'fireplaceflag' is 'NaN' we will replace it with 0, and if its 'True', we will replace it with 1\n",
    "raw_merged['fireplaceflag'].fillna(0, inplace=True)\n",
    "raw_merged['fireplaceflag'].replace(True, 1, inplace=True)\n",
    "\n",
    "#Drop 'fireplacecnt' because fireplaceflag provides the same information\n",
    "raw_merged.drop('fireplacecnt', axis=1, inplace=True)\n",
    "\n"
   ]
  },
  {
   "cell_type": "markdown",
   "metadata": {},
   "source": [
    "#### Garage"
   ]
  },
  {
   "cell_type": "code",
   "execution_count": 134,
   "metadata": {},
   "outputs": [],
   "source": [
    "# if 'garagecarcnt' is missing, fill with 0 and do same with 'garagetotalsqft'\n",
    "raw_merged['garagecarcnt'].fillna(0, inplace=True)\n",
    "raw_merged['garagetotalsqft'].fillna(0, inplace=True)"
   ]
  },
  {
   "cell_type": "markdown",
   "metadata": {},
   "source": [
    "#### Tax Deliquency"
   ]
  },
  {
   "cell_type": "code",
   "execution_count": 135,
   "metadata": {},
   "outputs": [],
   "source": [
    "# if 'taxdeliquencyflag' is missing , fill with 0 and if its 'True' we will replace it with 1\n",
    "raw_merged['taxdelinquencyflag'].fillna(0, inplace=True)\n",
    "raw_merged['taxdelinquencyflag'].replace('Y', 1, inplace=True)\n",
    "\n",
    "#Drop the taxdeliquencyyear as it gives the same information as above\n",
    "raw_merged.drop('taxdelinquencyyear', axis=1, inplace=True)"
   ]
  },
  {
   "cell_type": "markdown",
   "metadata": {},
   "source": [
    "#### Basement & Deck"
   ]
  },
  {
   "cell_type": "code",
   "execution_count": 136,
   "metadata": {},
   "outputs": [],
   "source": [
    "# replace 'nan' of basementsqft to 0\n",
    "raw_merged['basementsqft'].fillna(0, inplace=True)\n",
    "\n",
    "# if 'decktypeid' is missing, replace it to 0 and change all other type to 1\n",
    "raw_merged['decktypeid'].fillna(0, inplace=True)\n",
    "raw_merged['decktypeid'] = np.where(raw_merged['decktypeid']==0, 0, 1)\n"
   ]
  },
  {
   "cell_type": "markdown",
   "metadata": {},
   "source": [
    "#### Aircondition type and Heating type"
   ]
  },
  {
   "cell_type": "code",
   "execution_count": 137,
   "metadata": {},
   "outputs": [],
   "source": [
    "#AIRCONDITION\n",
    "\n",
    "# if 'airconditiontypeid' is 'NaN' change to 5\n",
    "raw_merged['airconditioningtypeid'].fillna(5, inplace=True)\n",
    "\n",
    "# Change airconditiontypeid to 0 if it has no AC, 1 if it has central (already in data) and 2 if anything else\n",
    "#raw_merged['airconditioningtypeid'] = raw_merged['airconditioningtypeid'].apply(lambda x:[0 if y==5 else y for y in x])\n",
    "#raw_merged['airconditioningtypeid'] = raw_merged['airconditioningtypeid'].apply(lambda x:[y if y==0 | y ==1 else 2 for y in x ])\n",
    "\n",
    "raw_merged['airconditioningtypeid'] = np.where(raw_merged['airconditioningtypeid']==5, 0 , raw_merged['airconditioningtypeid'])\n",
    "raw_merged['airconditioningtypeid'] = np.where((raw_merged['airconditioningtypeid']==0) | (raw_merged['airconditioningtypeid']==1)\n",
    "                                      ,raw_merged['airconditioningtypeid'], 2)\n",
    "\n",
    "#HEATING\n",
    "\n",
    "# if 'heatingtypeid' is 'NaN' change to 13\n",
    "raw_merged['heatingorsystemtypeid'].fillna(13, inplace=True)\n",
    "\n",
    "# Change 'heatingtypeid' to 0 is none, 1 to central and 2 to all others\n",
    "raw_merged['heatingorsystemtypeid'] = np.where(raw_merged['heatingorsystemtypeid']==13, 0, raw_merged['heatingorsystemtypeid'])\n",
    "raw_merged['heatingorsystemtypeid'] = np.where((raw_merged['heatingorsystemtypeid']==0) | (raw_merged['heatingorsystemtypeid']==1)\n",
    "                                      ,raw_merged['heatingorsystemtypeid'], 2)\n",
    "                                                                                                   \n"
   ]
  },
  {
   "cell_type": "markdown",
   "metadata": {},
   "source": [
    "#### Patio and Yard shed"
   ]
  },
  {
   "cell_type": "code",
   "execution_count": 138,
   "metadata": {},
   "outputs": [],
   "source": [
    "# If patio is 'NaN' replace with 0, all other sqft replace as 1 to indicate has patio\n",
    "raw_merged['yardbuildingsqft17'].fillna(0, inplace=True)\n",
    "raw_merged['hasPatio'] = np.where(raw_merged['yardbuildingsqft17']==0, 0, 1)\n",
    "\n",
    "#If shed is 'NaN' replace with 0, all other sqft replace as 1 to indicate presence of shed\n",
    "raw_merged['yardbuildingsqft26'].fillna(0, inplace=True)\n",
    "raw_merged['hasShed'] = np.where(raw_merged['yardbuildingsqft26'] ==0, 0, 1)\n",
    "\n",
    "#Drop the two variables\n",
    "raw_merged.drop(['yardbuildingsqft17', 'yardbuildingsqft26'], axis=1, inplace=True)"
   ]
  },
  {
   "cell_type": "markdown",
   "metadata": {},
   "source": [
    "### Dropping redundant variables"
   ]
  },
  {
   "cell_type": "code",
   "execution_count": 139,
   "metadata": {},
   "outputs": [],
   "source": [
    "## Getting rid of similiar features to avoid multicolinearity (based on graphs for colinearity)\n",
    "\n",
    "sqft_redundant = ['finishedsquarefeet12', 'finishedfloor1squarefeet', 'finishedsquarefeet6', 'finishedsquarefeet12', \n",
    "                 'finishedsquarefeet13', 'finishedsquarefeet15', 'finishedsquarefeet50']\n",
    "\n",
    "# Variable 'bathroomcnt' encompasses all the bathroom variables\n",
    "bathroom_redundant = ['threequarterbathnbr', 'fullbathcnt', 'calculatedbathnbr']\n",
    "\n",
    "# location variables are already given by latitude and longitude\n",
    "location_redundant = ['rawcensustractandblock', 'censustractandblock', 'regionidneighborhood', 'regionidcity', 'regionidzip']\n",
    "\n",
    "# tax redundant values\n",
    "tax_redundant = ['landtaxvaluedollarcnt', 'structuretaxvaluedollarcnt', 'assessmentyear']\n",
    "\n",
    "#other redundant variables\n",
    "other_redundant = ['storytypeid', 'architecturalstyletypeid', 'buildingclasstypeid', 'typeconstructiontypeid' ]\n",
    "\n",
    "#drop variables\n",
    "variables_to_drop = sqft_redundant + bathroom_redundant + location_redundant + tax_redundant + other_redundant\n",
    "\n",
    "raw_merged.drop( variables_to_drop, axis=1, inplace=True)"
   ]
  },
  {
   "cell_type": "markdown",
   "metadata": {},
   "source": [
    "## Dealing with missing variable - Part 2"
   ]
  },
  {
   "cell_type": "code",
   "execution_count": 140,
   "metadata": {},
   "outputs": [
    {
     "data": {
      "text/plain": [
       "parcelid                            0\n",
       "year                                0\n",
       "month                               0\n",
       "taxdelinquencyflag                  0\n",
       "fireplaceflag                       0\n",
       "roomcnt                             0\n",
       "regionidcounty                      0\n",
       "propertylandusetypeid               0\n",
       "poolsizesum                         0\n",
       "hasPatio                            0\n",
       "longitude                           0\n",
       "latitude                            0\n",
       "heatingorsystemtypeid               0\n",
       "poolcnt                             0\n",
       "garagetotalsqft                     0\n",
       "logerror                            0\n",
       "airconditioningtypeid               0\n",
       "basementsqft                        0\n",
       "bathroomcnt                         0\n",
       "hashottuborspa                      0\n",
       "bedroomcnt                          0\n",
       "hasShed                             0\n",
       "decktypeid                          0\n",
       "fips                                0\n",
       "garagecarcnt                        0\n",
       "propertycountylandusecode           1\n",
       "taxvaluedollarcnt                   1\n",
       "taxamount                           6\n",
       "calculatedfinishedsquarefeet      661\n",
       "yearbuilt                         756\n",
       "lotsizesquarefeet               10150\n",
       "unitcnt                         31922\n",
       "propertyzoningdesc              31962\n",
       "buildingqualitytypeid           32911\n",
       "numberofstories                 69705\n",
       "dtype: int64"
      ]
     },
     "execution_count": 140,
     "metadata": {},
     "output_type": "execute_result"
    }
   ],
   "source": [
    "raw_merged.isna().sum().sort_values()"
   ]
  },
  {
   "cell_type": "code",
   "execution_count": 141,
   "metadata": {},
   "outputs": [],
   "source": [
    "# replace 'numberofstorieswith the most common observation\n",
    "raw_merged['numberofstories'].fillna((raw_merged['numberofstories'].mode()[0]), inplace=True)\n",
    "\n",
    "#replace buildingqualitytypeid with the most common observation\n",
    "raw_merged['buildingqualitytypeid'].fillna((raw_merged['buildingqualitytypeid'].mode()[0]), inplace=True)\n",
    "\n",
    "#propertyzoning with the most common observation\n",
    "raw_merged['propertyzoningdesc'].fillna((raw_merged['propertyzoningdesc'].mode()[0]), inplace=True)\n",
    "\n",
    "#untcnt with the most common\n",
    "raw_merged['unitcnt'].fillna((raw_merged['unitcnt'].mode()[0]), inplace=True)\n",
    "\n",
    "#lotsize squarefeet with the average value\n",
    "raw_merged['lotsizesquarefeet'].fillna((raw_merged['lotsizesquarefeet'].mean()), inplace=True)\n",
    "\n",
    "#yearbuilt with the most common\n",
    "raw_merged['yearbuilt'].fillna((raw_merged['yearbuilt'].mode()[0]), inplace=True)\n",
    "\n",
    "#calculatedfinishedsqft with the median\n",
    "raw_merged['calculatedfinishedsquarefeet'].fillna((raw_merged['calculatedfinishedsquarefeet'].median()), inplace=True)\n",
    "\n",
    "#taxamount with median\n",
    "raw_merged['taxamount'].fillna((raw_merged['taxamount'].median()), inplace=True)\n",
    "\n",
    "#propertylanduse with common observation\n",
    "raw_merged['propertycountylandusecode'].fillna((raw_merged['propertycountylandusecode'].mode()[0]), inplace=True)\n",
    "\n",
    "#tax value dollar count with median\n",
    "raw_merged['taxvaluedollarcnt'].fillna((raw_merged['taxvaluedollarcnt'].median()), inplace=True)"
   ]
  },
  {
   "cell_type": "code",
   "execution_count": 142,
   "metadata": {},
   "outputs": [
    {
     "data": {
      "text/plain": [
       "parcelid                        0\n",
       "propertycountylandusecode       0\n",
       "propertylandusetypeid           0\n",
       "propertyzoningdesc              0\n",
       "regionidcounty                  0\n",
       "roomcnt                         0\n",
       "unitcnt                         0\n",
       "poolsizesum                     0\n",
       "yearbuilt                       0\n",
       "fireplaceflag                   0\n",
       "taxvaluedollarcnt               0\n",
       "taxamount                       0\n",
       "taxdelinquencyflag              0\n",
       "month                           0\n",
       "year                            0\n",
       "numberofstories                 0\n",
       "hasPatio                        0\n",
       "poolcnt                         0\n",
       "longitude                       0\n",
       "logerror                        0\n",
       "airconditioningtypeid           0\n",
       "basementsqft                    0\n",
       "bathroomcnt                     0\n",
       "bedroomcnt                      0\n",
       "buildingqualitytypeid           0\n",
       "lotsizesquarefeet               0\n",
       "decktypeid                      0\n",
       "fips                            0\n",
       "garagecarcnt                    0\n",
       "garagetotalsqft                 0\n",
       "hashottuborspa                  0\n",
       "heatingorsystemtypeid           0\n",
       "latitude                        0\n",
       "calculatedfinishedsquarefeet    0\n",
       "hasShed                         0\n",
       "dtype: int64"
      ]
     },
     "execution_count": 142,
     "metadata": {},
     "output_type": "execute_result"
    }
   ],
   "source": [
    "raw_merged.isna().sum().sort_values()"
   ]
  },
  {
   "cell_type": "code",
   "execution_count": 143,
   "metadata": {},
   "outputs": [
    {
     "data": {
      "text/plain": [
       "(90275, 35)"
      ]
     },
     "execution_count": 143,
     "metadata": {},
     "output_type": "execute_result"
    }
   ],
   "source": [
    "raw_merged.shape"
   ]
  },
  {
   "cell_type": "markdown",
   "metadata": {},
   "source": [
    "## Feature Engineering"
   ]
  },
  {
   "cell_type": "code",
   "execution_count": 144,
   "metadata": {},
   "outputs": [],
   "source": [
    "# Tax Variables\n",
    "raw_merged['taxpercentage'] = raw_merged['taxamount'] / raw_merged['taxvaluedollarcnt']\n",
    "raw_merged.drop(['taxamount', 'taxvaluedollarcnt'], axis=1, inplace=True)\n",
    "\n",
    "#Create dummy variables\n"
   ]
  },
  {
   "cell_type": "code",
   "execution_count": 145,
   "metadata": {},
   "outputs": [],
   "source": [
    "from sklearn.preprocessing import LabelEncoder\n",
    "le = LabelEncoder()\n",
    "\n",
    "raw_merged['propertycountylandusecode'] = le.fit_transform(raw_merged['propertycountylandusecode'])\n",
    "raw_merged['propertyzoningdesc'] = le.fit_transform(raw_merged['propertyzoningdesc'])\n"
   ]
  },
  {
   "cell_type": "code",
   "execution_count": 146,
   "metadata": {},
   "outputs": [],
   "source": [
    "raw_merged.to_csv('ModelReadyZillow.csv', index=False)"
   ]
  },
  {
   "cell_type": "code",
   "execution_count": null,
   "metadata": {},
   "outputs": [],
   "source": []
  }
 ],
 "metadata": {
  "kernelspec": {
   "display_name": "Python 3",
   "language": "python",
   "name": "python3"
  },
  "language_info": {
   "codemirror_mode": {
    "name": "ipython",
    "version": 3
   },
   "file_extension": ".py",
   "mimetype": "text/x-python",
   "name": "python",
   "nbconvert_exporter": "python",
   "pygments_lexer": "ipython3",
   "version": "3.7.0"
  }
 },
 "nbformat": 4,
 "nbformat_minor": 2
}
